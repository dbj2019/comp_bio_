{
 "cells": [
  {
   "cell_type": "code",
   "execution_count": 1,
   "id": "b3c003c7",
   "metadata": {
    "executionInfo": {
     "elapsed": 11701,
     "status": "ok",
     "timestamp": 1703195601975,
     "user": {
      "displayName": "Dean Lee",
      "userId": "08770626040323150090"
     },
     "user_tz": 300
    },
    "id": "b3c003c7"
   },
   "outputs": [
    {
     "name": "stderr",
     "output_type": "stream",
     "text": [
      "/Library/Frameworks/Python.framework/Versions/3.10/lib/python3.10/site-packages/scvi/_settings.py:63: UserWarning: Since v1.0.0, scvi-tools no longer uses a random seed by default. Run `scvi.settings.seed = 0` to reproduce results from previous versions.\n",
      "  self.seed = seed\n",
      "/Library/Frameworks/Python.framework/Versions/3.10/lib/python3.10/site-packages/scvi/_settings.py:70: UserWarning: Setting `dl_pin_memory_gpu_training` is deprecated in v1.0 and will be removed in v1.1. Please pass in `pin_memory` to the data loaders instead.\n",
      "  self.dl_pin_memory_gpu_training = (\n",
      "/Library/Frameworks/Python.framework/Versions/3.10/lib/python3.10/site-packages/tqdm/auto.py:21: TqdmWarning: IProgress not found. Please update jupyter and ipywidgets. See https://ipywidgets.readthedocs.io/en/stable/user_install.html\n",
      "  from .autonotebook import tqdm as notebook_tqdm\n"
     ]
    }
   ],
   "source": [
    "import os\n",
    "import numpy as np\n",
    "import pandas as pd\n",
    "import scipy\n",
    "import anndata\n",
    "import scanpy as sc\n",
    "import pybiomart\n",
    "import scvi\n",
    "import torch\n",
    "import random\n",
    "import seaborn as sns"
   ]
  },
  {
   "cell_type": "code",
   "execution_count": 2,
   "id": "befc805c",
   "metadata": {},
   "outputs": [],
   "source": [
    "# create an account for Broad Single Cell Portal\n",
    "# download data from https://singlecell.broadinstitute.org/single_cell/study/SCP1756/cortical-organoids-atlas#study-download"
   ]
  },
  {
   "cell_type": "code",
   "execution_count": 3,
   "id": "d24748fb",
   "metadata": {},
   "outputs": [],
   "source": [
    "cwd = os.getcwd()"
   ]
  },
  {
   "cell_type": "code",
   "execution_count": 4,
   "id": "80b848ff",
   "metadata": {
    "colab": {
     "base_uri": "https://localhost:8080/",
     "height": 617
    },
    "executionInfo": {
     "elapsed": 1000,
     "status": "ok",
     "timestamp": 1703195755276,
     "user": {
      "displayName": "Dean Lee",
      "userId": "08770626040323150090"
     },
     "user_tz": 300
    },
    "id": "80b848ff",
    "outputId": "e4711736-eecc-46d3-850c-ea3a5a288197"
   },
   "outputs": [
    {
     "name": "stderr",
     "output_type": "stream",
     "text": [
      "/var/folders/gq/zhkl55292md4w3kdwkb01qjh0000gn/T/ipykernel_20814/4213564919.py:1: DtypeWarning: Columns (3,4) have mixed types. Specify dtype option on import or set low_memory=False.\n",
      "  meta = pd.read_csv(cwd+'/data/meta_all.txt', sep='\\t')\n"
     ]
    },
    {
     "data": {
      "text/html": [
       "<div>\n",
       "<style scoped>\n",
       "    .dataframe tbody tr th:only-of-type {\n",
       "        vertical-align: middle;\n",
       "    }\n",
       "\n",
       "    .dataframe tbody tr th {\n",
       "        vertical-align: top;\n",
       "    }\n",
       "\n",
       "    .dataframe thead th {\n",
       "        text-align: right;\n",
       "    }\n",
       "</style>\n",
       "<table border=\"1\" class=\"dataframe\">\n",
       "  <thead>\n",
       "    <tr style=\"text-align: right;\">\n",
       "      <th></th>\n",
       "      <th>CellID</th>\n",
       "      <th>SampleID</th>\n",
       "      <th>donor_id</th>\n",
       "      <th>nGene</th>\n",
       "      <th>nUMI</th>\n",
       "      <th>sex</th>\n",
       "      <th>library_preparation_protocol__ontology_label</th>\n",
       "      <th>biosample_type</th>\n",
       "    </tr>\n",
       "  </thead>\n",
       "  <tbody>\n",
       "    <tr>\n",
       "      <th>1</th>\n",
       "      <td>AAACGAAAGACACAAT-3_1m-ATAC</td>\n",
       "      <td>ATAC-Org3</td>\n",
       "      <td>Mito 210 c1 b5</td>\n",
       "      <td>3850</td>\n",
       "      <td>5327</td>\n",
       "      <td>male</td>\n",
       "      <td>scATAC-seq</td>\n",
       "      <td>DerivedType_Organoid</td>\n",
       "    </tr>\n",
       "    <tr>\n",
       "      <th>2</th>\n",
       "      <td>AAACGAAAGACCTATC-1_1m-ATAC</td>\n",
       "      <td>ATAC-Org1</td>\n",
       "      <td>Mito 210 c1 b5</td>\n",
       "      <td>2070</td>\n",
       "      <td>2556</td>\n",
       "      <td>male</td>\n",
       "      <td>scATAC-seq</td>\n",
       "      <td>DerivedType_Organoid</td>\n",
       "    </tr>\n",
       "    <tr>\n",
       "      <th>3</th>\n",
       "      <td>AAACGAAAGATTGACA-2_1m-ATAC</td>\n",
       "      <td>ATAC-Org2</td>\n",
       "      <td>Mito 210 c1 b5</td>\n",
       "      <td>2708</td>\n",
       "      <td>3334</td>\n",
       "      <td>male</td>\n",
       "      <td>scATAC-seq</td>\n",
       "      <td>DerivedType_Organoid</td>\n",
       "    </tr>\n",
       "    <tr>\n",
       "      <th>4</th>\n",
       "      <td>AAACGAAAGCGTCTGC-1_1m-ATAC</td>\n",
       "      <td>ATAC-Org1</td>\n",
       "      <td>Mito 210 c1 b5</td>\n",
       "      <td>3970</td>\n",
       "      <td>5339</td>\n",
       "      <td>male</td>\n",
       "      <td>scATAC-seq</td>\n",
       "      <td>DerivedType_Organoid</td>\n",
       "    </tr>\n",
       "    <tr>\n",
       "      <th>5</th>\n",
       "      <td>AAACGAAAGGATATCA-3_1m-ATAC</td>\n",
       "      <td>ATAC-Org3</td>\n",
       "      <td>Mito 210 c1 b5</td>\n",
       "      <td>2590</td>\n",
       "      <td>3279</td>\n",
       "      <td>male</td>\n",
       "      <td>scATAC-seq</td>\n",
       "      <td>DerivedType_Organoid</td>\n",
       "    </tr>\n",
       "    <tr>\n",
       "      <th>...</th>\n",
       "      <td>...</td>\n",
       "      <td>...</td>\n",
       "      <td>...</td>\n",
       "      <td>...</td>\n",
       "      <td>...</td>\n",
       "      <td>...</td>\n",
       "      <td>...</td>\n",
       "      <td>...</td>\n",
       "    </tr>\n",
       "    <tr>\n",
       "      <th>777088</th>\n",
       "      <td>PCW18_TTTGTTGGTCACCGAC-1_fetal</td>\n",
       "      <td>Fetal-4-PCW18</td>\n",
       "      <td>Fetal-4-PCW18</td>\n",
       "      <td>2298</td>\n",
       "      <td>5225</td>\n",
       "      <td>unknown</td>\n",
       "      <td>10X sequencing</td>\n",
       "      <td>PrimaryBioSample_Tissue</td>\n",
       "    </tr>\n",
       "    <tr>\n",
       "      <th>777089</th>\n",
       "      <td>PCW18_TTTGTTGGTGACAGCA-1_fetal</td>\n",
       "      <td>Fetal-4-PCW18</td>\n",
       "      <td>Fetal-4-PCW18</td>\n",
       "      <td>6308</td>\n",
       "      <td>24794</td>\n",
       "      <td>unknown</td>\n",
       "      <td>10X sequencing</td>\n",
       "      <td>PrimaryBioSample_Tissue</td>\n",
       "    </tr>\n",
       "    <tr>\n",
       "      <th>777090</th>\n",
       "      <td>PCW18_TTTGTTGGTTAGAAAC-1_fetal</td>\n",
       "      <td>Fetal-4-PCW18</td>\n",
       "      <td>Fetal-4-PCW18</td>\n",
       "      <td>1142</td>\n",
       "      <td>2062</td>\n",
       "      <td>unknown</td>\n",
       "      <td>10X sequencing</td>\n",
       "      <td>PrimaryBioSample_Tissue</td>\n",
       "    </tr>\n",
       "    <tr>\n",
       "      <th>777091</th>\n",
       "      <td>PCW18_TTTGTTGTCACCCTTG-1_fetal</td>\n",
       "      <td>Fetal-4-PCW18</td>\n",
       "      <td>Fetal-4-PCW18</td>\n",
       "      <td>2881</td>\n",
       "      <td>7919</td>\n",
       "      <td>unknown</td>\n",
       "      <td>10X sequencing</td>\n",
       "      <td>PrimaryBioSample_Tissue</td>\n",
       "    </tr>\n",
       "    <tr>\n",
       "      <th>777092</th>\n",
       "      <td>PCW18_TTTGTTGTCACTTGGA-1_fetal</td>\n",
       "      <td>Fetal-4-PCW18</td>\n",
       "      <td>Fetal-4-PCW18</td>\n",
       "      <td>2535</td>\n",
       "      <td>6155</td>\n",
       "      <td>unknown</td>\n",
       "      <td>10X sequencing</td>\n",
       "      <td>PrimaryBioSample_Tissue</td>\n",
       "    </tr>\n",
       "  </tbody>\n",
       "</table>\n",
       "<p>777092 rows × 8 columns</p>\n",
       "</div>"
      ],
      "text/plain": [
       "                                CellID       SampleID        donor_id nGene  \\\n",
       "1           AAACGAAAGACACAAT-3_1m-ATAC      ATAC-Org3  Mito 210 c1 b5  3850   \n",
       "2           AAACGAAAGACCTATC-1_1m-ATAC      ATAC-Org1  Mito 210 c1 b5  2070   \n",
       "3           AAACGAAAGATTGACA-2_1m-ATAC      ATAC-Org2  Mito 210 c1 b5  2708   \n",
       "4           AAACGAAAGCGTCTGC-1_1m-ATAC      ATAC-Org1  Mito 210 c1 b5  3970   \n",
       "5           AAACGAAAGGATATCA-3_1m-ATAC      ATAC-Org3  Mito 210 c1 b5  2590   \n",
       "...                                ...            ...             ...   ...   \n",
       "777088  PCW18_TTTGTTGGTCACCGAC-1_fetal  Fetal-4-PCW18   Fetal-4-PCW18  2298   \n",
       "777089  PCW18_TTTGTTGGTGACAGCA-1_fetal  Fetal-4-PCW18   Fetal-4-PCW18  6308   \n",
       "777090  PCW18_TTTGTTGGTTAGAAAC-1_fetal  Fetal-4-PCW18   Fetal-4-PCW18  1142   \n",
       "777091  PCW18_TTTGTTGTCACCCTTG-1_fetal  Fetal-4-PCW18   Fetal-4-PCW18  2881   \n",
       "777092  PCW18_TTTGTTGTCACTTGGA-1_fetal  Fetal-4-PCW18   Fetal-4-PCW18  2535   \n",
       "\n",
       "         nUMI      sex library_preparation_protocol__ontology_label  \\\n",
       "1        5327     male                                   scATAC-seq   \n",
       "2        2556     male                                   scATAC-seq   \n",
       "3        3334     male                                   scATAC-seq   \n",
       "4        5339     male                                   scATAC-seq   \n",
       "5        3279     male                                   scATAC-seq   \n",
       "...       ...      ...                                          ...   \n",
       "777088   5225  unknown                               10X sequencing   \n",
       "777089  24794  unknown                               10X sequencing   \n",
       "777090   2062  unknown                               10X sequencing   \n",
       "777091   7919  unknown                               10X sequencing   \n",
       "777092   6155  unknown                               10X sequencing   \n",
       "\n",
       "                 biosample_type  \n",
       "1          DerivedType_Organoid  \n",
       "2          DerivedType_Organoid  \n",
       "3          DerivedType_Organoid  \n",
       "4          DerivedType_Organoid  \n",
       "5          DerivedType_Organoid  \n",
       "...                         ...  \n",
       "777088  PrimaryBioSample_Tissue  \n",
       "777089  PrimaryBioSample_Tissue  \n",
       "777090  PrimaryBioSample_Tissue  \n",
       "777091  PrimaryBioSample_Tissue  \n",
       "777092  PrimaryBioSample_Tissue  \n",
       "\n",
       "[777092 rows x 8 columns]"
      ]
     },
     "execution_count": 4,
     "metadata": {},
     "output_type": "execute_result"
    }
   ],
   "source": [
    "meta = pd.read_csv(cwd+'/data/meta_all.txt', sep='\\t')\n",
    "meta.drop(index=0, axis=0, inplace=True)\n",
    "meta.drop(columns=['species','species__ontology_label',\n",
    "                   'disease','disease__ontology_label',\n",
    "                   'organ','organ__ontology_label',\n",
    "                   'library_preparation_protocol'], inplace=True)\n",
    "meta.rename(columns={'NAME':'CellID', 'biosample_id':'SampleID'}, inplace=True)\n",
    "meta"
   ]
  },
  {
   "cell_type": "code",
   "execution_count": 5,
   "id": "2486fafa",
   "metadata": {},
   "outputs": [
    {
     "data": {
      "text/plain": [
       "library_preparation_protocol__ontology_label  biosample_type         \n",
       "10X sequencing                                DerivedType_Organoid       601747\n",
       "                                              PrimaryBioSample_Tissue     60806\n",
       "single cell sequencing                        DerivedType_Organoid        53232\n",
       "scATAC-seq                                    DerivedType_Organoid        38017\n",
       "Slide-seq                                     DerivedType_Organoid        23290\n",
       "Name: count, dtype: int64"
      ]
     },
     "execution_count": 5,
     "metadata": {},
     "output_type": "execute_result"
    }
   ],
   "source": [
    "meta[['library_preparation_protocol__ontology_label','biosample_type']].value_counts()"
   ]
  },
  {
   "cell_type": "code",
   "execution_count": 6,
   "id": "3402547f",
   "metadata": {},
   "outputs": [
    {
     "data": {
      "text/plain": [
       "array(['ATAC-Org3', 'ATAC-Org1', 'ATAC-Org2', 'ATAC-Org5', 'ATAC-Org6',\n",
       "       'ATAC-Org4', 'ATAC-Org8', 'ATAC-Org9', 'ATAC-Org7',\n",
       "       'SlideSeq-1m-Org1', 'SlideSeq-1m-Org2', 'SlideSeq-1m-Org4',\n",
       "       'SlideSeq-1m-Org3', 'SlideSeq-2m-Org1', 'SlideSeq-2m-Org2',\n",
       "       'SlideSeq-2m-Org3', 'SlideSeq-3m-Org1', 'SlideSeq-3m-Org2',\n",
       "       'SlideSeq-3m-Org3', 'Org1', 'Org2', 'Org3', 'Org4', 'Org5', 'Org6',\n",
       "       'Org7', 'Org8', 'Org9', 'Org10', 'Org11', 'Org12', 'Org13',\n",
       "       'Org14', 'Org15', 'Org16', 'Org17', 'Org18', 'Org19', 'Org20',\n",
       "       'Org21', 'Org22', 'Org23', 'Org24', 'Org25', 'Org26', 'Org27',\n",
       "       'Org28', 'Org29', 'Org30', 'Org31', 'Org32', 'Org33', 'Org40',\n",
       "       'Org41', 'Org42', 'Org43', 'Org44', 'Org45', 'Org34', 'Org35',\n",
       "       'Org36', 'Org37', 'Org38', 'Org39', 'Org46', 'Org47', 'Org48',\n",
       "       'Org49', 'Org50', 'Org51', 'Org55', 'Org56', 'Org57', 'Org52',\n",
       "       'Org53', 'Org54', 'Org58', 'Org59', 'Org60', 'Org61', 'Org62',\n",
       "       'Org63', 'Org64', 'Org65', 'Org66', 'Org67', 'Org68', 'Org69',\n",
       "       'Org76', 'Org77', 'Org78', 'Org70', 'Org71', 'Org72', 'Org73',\n",
       "       'Org74', 'Org75', 'Org79', 'Org80', 'Org81', 'Org82', 'Org83',\n",
       "       'Share-1m-4', 'Share-1m-5', 'Share-1m-6', 'Share-2m-7',\n",
       "       'Share-2m-8', 'Share-2m-9', 'Share-d23-1', 'Share-d23-2',\n",
       "       'Share-d23-3', 'Share-3m-10', 'Share-3m-11', 'Share-3m-12',\n",
       "       'Quad-1', 'Quad-2', 'Quad-3', 'Quad-4', 'Quad-5', 'Quad-6',\n",
       "       'Quad-7', 'Quad-8', 'Fetal-1-PCW14', 'Fetal-2-PCW15',\n",
       "       'Fetal-3-PCW16', 'Fetal-4-PCW18'], dtype=object)"
      ]
     },
     "execution_count": 6,
     "metadata": {},
     "output_type": "execute_result"
    }
   ],
   "source": [
    "meta['SampleID'].unique()"
   ]
  },
  {
   "cell_type": "code",
   "execution_count": 7,
   "id": "ee7766fb",
   "metadata": {
    "colab": {
     "base_uri": "https://localhost:8080/",
     "height": 161
    },
    "executionInfo": {
     "elapsed": 595,
     "status": "ok",
     "timestamp": 1703199075524,
     "user": {
      "displayName": "Dean Lee",
      "userId": "08770626040323150090"
     },
     "user_tz": 300
    },
    "id": "ee7766fb",
    "outputId": "0e3de2e9-fb82-49c2-f4e8-0810c399bbcc"
   },
   "outputs": [
    {
     "name": "stdout",
     "output_type": "stream",
     "text": [
      "CPU times: user 31.9 s, sys: 695 ms, total: 32.6 s\n",
      "Wall time: 33.4 s\n"
     ]
    },
    {
     "data": {
      "text/plain": [
       "(29736, 33694)"
      ]
     },
     "execution_count": 7,
     "metadata": {},
     "output_type": "execute_result"
    }
   ],
   "source": [
    "%%time\n",
    "counts = scipy.io.mmread(cwd+'/data/expression_23days.txt')\n",
    "counts = counts.transpose()\n",
    "counts = scipy.sparse.csr_matrix(counts)\n",
    "counts.shape"
   ]
  },
  {
   "cell_type": "code",
   "execution_count": 8,
   "id": "4b81897b",
   "metadata": {},
   "outputs": [
    {
     "data": {
      "text/html": [
       "<div>\n",
       "<style scoped>\n",
       "    .dataframe tbody tr th:only-of-type {\n",
       "        vertical-align: middle;\n",
       "    }\n",
       "\n",
       "    .dataframe tbody tr th {\n",
       "        vertical-align: top;\n",
       "    }\n",
       "\n",
       "    .dataframe thead th {\n",
       "        text-align: right;\n",
       "    }\n",
       "</style>\n",
       "<table border=\"1\" class=\"dataframe\">\n",
       "  <thead>\n",
       "    <tr style=\"text-align: right;\">\n",
       "      <th></th>\n",
       "      <th>CellID</th>\n",
       "    </tr>\n",
       "  </thead>\n",
       "  <tbody>\n",
       "    <tr>\n",
       "      <th>0</th>\n",
       "      <td>1_AAACGAACACGTGAGA-1_1_23d</td>\n",
       "    </tr>\n",
       "    <tr>\n",
       "      <th>1</th>\n",
       "      <td>1_AAACGAAGTCGAAACG-1_1_23d</td>\n",
       "    </tr>\n",
       "    <tr>\n",
       "      <th>2</th>\n",
       "      <td>1_AAACGAAGTGGCAGAT-1_1_23d</td>\n",
       "    </tr>\n",
       "    <tr>\n",
       "      <th>3</th>\n",
       "      <td>1_AAACGAAGTGGTTCTA-1_1_23d</td>\n",
       "    </tr>\n",
       "    <tr>\n",
       "      <th>4</th>\n",
       "      <td>1_AAACGAAGTTGGCCGT-1_1_23d</td>\n",
       "    </tr>\n",
       "    <tr>\n",
       "      <th>...</th>\n",
       "      <td>...</td>\n",
       "    </tr>\n",
       "    <tr>\n",
       "      <th>29731</th>\n",
       "      <td>3_TTTGGTTTCGGAATGG-1_2_23d</td>\n",
       "    </tr>\n",
       "    <tr>\n",
       "      <th>29732</th>\n",
       "      <td>3_TTTGGTTTCGGTTAGT-1_2_23d</td>\n",
       "    </tr>\n",
       "    <tr>\n",
       "      <th>29733</th>\n",
       "      <td>3_TTTGTTGAGACCATAA-1_2_23d</td>\n",
       "    </tr>\n",
       "    <tr>\n",
       "      <th>29734</th>\n",
       "      <td>3_TTTGTTGAGAGAAGGT-1_2_23d</td>\n",
       "    </tr>\n",
       "    <tr>\n",
       "      <th>29735</th>\n",
       "      <td>3_TTTGTTGTCCATGAGT-1_2_23d</td>\n",
       "    </tr>\n",
       "  </tbody>\n",
       "</table>\n",
       "<p>29736 rows × 1 columns</p>\n",
       "</div>"
      ],
      "text/plain": [
       "                           CellID\n",
       "0      1_AAACGAACACGTGAGA-1_1_23d\n",
       "1      1_AAACGAAGTCGAAACG-1_1_23d\n",
       "2      1_AAACGAAGTGGCAGAT-1_1_23d\n",
       "3      1_AAACGAAGTGGTTCTA-1_1_23d\n",
       "4      1_AAACGAAGTTGGCCGT-1_1_23d\n",
       "...                           ...\n",
       "29731  3_TTTGGTTTCGGAATGG-1_2_23d\n",
       "29732  3_TTTGGTTTCGGTTAGT-1_2_23d\n",
       "29733  3_TTTGTTGAGACCATAA-1_2_23d\n",
       "29734  3_TTTGTTGAGAGAAGGT-1_2_23d\n",
       "29735  3_TTTGTTGTCCATGAGT-1_2_23d\n",
       "\n",
       "[29736 rows x 1 columns]"
      ]
     },
     "execution_count": 8,
     "metadata": {},
     "output_type": "execute_result"
    }
   ],
   "source": [
    "barcodes = pd.read_csv(cwd+'/data/NormExpression_23days_barcodes.txt', sep='\\t', header=None)\n",
    "barcodes.rename(columns={0:'CellID'}, inplace=True)\n",
    "barcodes"
   ]
  },
  {
   "cell_type": "code",
   "execution_count": 9,
   "id": "23c71bb7",
   "metadata": {},
   "outputs": [
    {
     "data": {
      "text/html": [
       "<div>\n",
       "<style scoped>\n",
       "    .dataframe tbody tr th:only-of-type {\n",
       "        vertical-align: middle;\n",
       "    }\n",
       "\n",
       "    .dataframe tbody tr th {\n",
       "        vertical-align: top;\n",
       "    }\n",
       "\n",
       "    .dataframe thead th {\n",
       "        text-align: right;\n",
       "    }\n",
       "</style>\n",
       "<table border=\"1\" class=\"dataframe\">\n",
       "  <thead>\n",
       "    <tr style=\"text-align: right;\">\n",
       "      <th></th>\n",
       "      <th>Genes</th>\n",
       "    </tr>\n",
       "  </thead>\n",
       "  <tbody>\n",
       "    <tr>\n",
       "      <th>0</th>\n",
       "      <td>RP11-34P13.3</td>\n",
       "    </tr>\n",
       "    <tr>\n",
       "      <th>1</th>\n",
       "      <td>FAM138A</td>\n",
       "    </tr>\n",
       "    <tr>\n",
       "      <th>2</th>\n",
       "      <td>OR4F5</td>\n",
       "    </tr>\n",
       "    <tr>\n",
       "      <th>3</th>\n",
       "      <td>RP11-34P13.7</td>\n",
       "    </tr>\n",
       "    <tr>\n",
       "      <th>4</th>\n",
       "      <td>RP11-34P13.8</td>\n",
       "    </tr>\n",
       "    <tr>\n",
       "      <th>...</th>\n",
       "      <td>...</td>\n",
       "    </tr>\n",
       "    <tr>\n",
       "      <th>33689</th>\n",
       "      <td>AC233755.2</td>\n",
       "    </tr>\n",
       "    <tr>\n",
       "      <th>33690</th>\n",
       "      <td>AC233755.1</td>\n",
       "    </tr>\n",
       "    <tr>\n",
       "      <th>33691</th>\n",
       "      <td>AC240274.1</td>\n",
       "    </tr>\n",
       "    <tr>\n",
       "      <th>33692</th>\n",
       "      <td>AC213203.1</td>\n",
       "    </tr>\n",
       "    <tr>\n",
       "      <th>33693</th>\n",
       "      <td>FAM231B</td>\n",
       "    </tr>\n",
       "  </tbody>\n",
       "</table>\n",
       "<p>33694 rows × 1 columns</p>\n",
       "</div>"
      ],
      "text/plain": [
       "              Genes\n",
       "0      RP11-34P13.3\n",
       "1           FAM138A\n",
       "2             OR4F5\n",
       "3      RP11-34P13.7\n",
       "4      RP11-34P13.8\n",
       "...             ...\n",
       "33689    AC233755.2\n",
       "33690    AC233755.1\n",
       "33691    AC240274.1\n",
       "33692    AC213203.1\n",
       "33693       FAM231B\n",
       "\n",
       "[33694 rows x 1 columns]"
      ]
     },
     "execution_count": 9,
     "metadata": {},
     "output_type": "execute_result"
    }
   ],
   "source": [
    "genes = pd.read_csv(cwd+'/data/NormExpression_23days_genes.txt', sep='\\t', header=None)\n",
    "genes.rename(columns={0:'Genes'}, inplace=True)\n",
    "genes"
   ]
  },
  {
   "cell_type": "code",
   "execution_count": 10,
   "id": "32a13b25",
   "metadata": {},
   "outputs": [
    {
     "data": {
      "text/plain": [
       "29736"
      ]
     },
     "execution_count": 10,
     "metadata": {},
     "output_type": "execute_result"
    }
   ],
   "source": [
    "sum(barcodes['CellID'].isin(meta['CellID']))"
   ]
  },
  {
   "cell_type": "code",
   "execution_count": 11,
   "id": "046c54f3",
   "metadata": {},
   "outputs": [
    {
     "data": {
      "text/html": [
       "<div>\n",
       "<style scoped>\n",
       "    .dataframe tbody tr th:only-of-type {\n",
       "        vertical-align: middle;\n",
       "    }\n",
       "\n",
       "    .dataframe tbody tr th {\n",
       "        vertical-align: top;\n",
       "    }\n",
       "\n",
       "    .dataframe thead th {\n",
       "        text-align: right;\n",
       "    }\n",
       "</style>\n",
       "<table border=\"1\" class=\"dataframe\">\n",
       "  <thead>\n",
       "    <tr style=\"text-align: right;\">\n",
       "      <th></th>\n",
       "      <th>CellID</th>\n",
       "      <th>SampleID</th>\n",
       "      <th>donor_id</th>\n",
       "      <th>nGene</th>\n",
       "      <th>nUMI</th>\n",
       "      <th>sex</th>\n",
       "      <th>library_preparation_protocol__ontology_label</th>\n",
       "      <th>biosample_type</th>\n",
       "    </tr>\n",
       "  </thead>\n",
       "  <tbody>\n",
       "    <tr>\n",
       "      <th>0</th>\n",
       "      <td>1_AAACGAACACGTGAGA-1_1_23d</td>\n",
       "      <td>Org1</td>\n",
       "      <td>Mito 210 c1 b1</td>\n",
       "      <td>536</td>\n",
       "      <td>3724</td>\n",
       "      <td>male</td>\n",
       "      <td>10X sequencing</td>\n",
       "      <td>DerivedType_Organoid</td>\n",
       "    </tr>\n",
       "    <tr>\n",
       "      <th>1</th>\n",
       "      <td>1_AAACGAAGTCGAAACG-1_1_23d</td>\n",
       "      <td>Org1</td>\n",
       "      <td>Mito 210 c1 b1</td>\n",
       "      <td>2310</td>\n",
       "      <td>9184</td>\n",
       "      <td>male</td>\n",
       "      <td>10X sequencing</td>\n",
       "      <td>DerivedType_Organoid</td>\n",
       "    </tr>\n",
       "    <tr>\n",
       "      <th>2</th>\n",
       "      <td>1_AAACGAAGTGGCAGAT-1_1_23d</td>\n",
       "      <td>Org1</td>\n",
       "      <td>Mito 210 c1 b1</td>\n",
       "      <td>2070</td>\n",
       "      <td>6359</td>\n",
       "      <td>male</td>\n",
       "      <td>10X sequencing</td>\n",
       "      <td>DerivedType_Organoid</td>\n",
       "    </tr>\n",
       "    <tr>\n",
       "      <th>3</th>\n",
       "      <td>1_AAACGAAGTGGTTCTA-1_1_23d</td>\n",
       "      <td>Org1</td>\n",
       "      <td>Mito 210 c1 b1</td>\n",
       "      <td>1292</td>\n",
       "      <td>3468</td>\n",
       "      <td>male</td>\n",
       "      <td>10X sequencing</td>\n",
       "      <td>DerivedType_Organoid</td>\n",
       "    </tr>\n",
       "    <tr>\n",
       "      <th>4</th>\n",
       "      <td>1_AAACGAAGTTGGCCGT-1_1_23d</td>\n",
       "      <td>Org1</td>\n",
       "      <td>Mito 210 c1 b1</td>\n",
       "      <td>832</td>\n",
       "      <td>1809</td>\n",
       "      <td>male</td>\n",
       "      <td>10X sequencing</td>\n",
       "      <td>DerivedType_Organoid</td>\n",
       "    </tr>\n",
       "    <tr>\n",
       "      <th>...</th>\n",
       "      <td>...</td>\n",
       "      <td>...</td>\n",
       "      <td>...</td>\n",
       "      <td>...</td>\n",
       "      <td>...</td>\n",
       "      <td>...</td>\n",
       "      <td>...</td>\n",
       "      <td>...</td>\n",
       "    </tr>\n",
       "    <tr>\n",
       "      <th>29731</th>\n",
       "      <td>3_TTTGGTTTCGGAATGG-1_2_23d</td>\n",
       "      <td>Org6</td>\n",
       "      <td>PGP1 c1 b2</td>\n",
       "      <td>995</td>\n",
       "      <td>1825</td>\n",
       "      <td>male</td>\n",
       "      <td>10X sequencing</td>\n",
       "      <td>DerivedType_Organoid</td>\n",
       "    </tr>\n",
       "    <tr>\n",
       "      <th>29732</th>\n",
       "      <td>3_TTTGGTTTCGGTTAGT-1_2_23d</td>\n",
       "      <td>Org6</td>\n",
       "      <td>PGP1 c1 b2</td>\n",
       "      <td>3449</td>\n",
       "      <td>13964</td>\n",
       "      <td>male</td>\n",
       "      <td>10X sequencing</td>\n",
       "      <td>DerivedType_Organoid</td>\n",
       "    </tr>\n",
       "    <tr>\n",
       "      <th>29733</th>\n",
       "      <td>3_TTTGTTGAGACCATAA-1_2_23d</td>\n",
       "      <td>Org6</td>\n",
       "      <td>PGP1 c1 b2</td>\n",
       "      <td>1382</td>\n",
       "      <td>3670</td>\n",
       "      <td>male</td>\n",
       "      <td>10X sequencing</td>\n",
       "      <td>DerivedType_Organoid</td>\n",
       "    </tr>\n",
       "    <tr>\n",
       "      <th>29734</th>\n",
       "      <td>3_TTTGTTGAGAGAAGGT-1_2_23d</td>\n",
       "      <td>Org6</td>\n",
       "      <td>PGP1 c1 b2</td>\n",
       "      <td>1331</td>\n",
       "      <td>3713</td>\n",
       "      <td>male</td>\n",
       "      <td>10X sequencing</td>\n",
       "      <td>DerivedType_Organoid</td>\n",
       "    </tr>\n",
       "    <tr>\n",
       "      <th>29735</th>\n",
       "      <td>3_TTTGTTGTCCATGAGT-1_2_23d</td>\n",
       "      <td>Org6</td>\n",
       "      <td>PGP1 c1 b2</td>\n",
       "      <td>1958</td>\n",
       "      <td>5589</td>\n",
       "      <td>male</td>\n",
       "      <td>10X sequencing</td>\n",
       "      <td>DerivedType_Organoid</td>\n",
       "    </tr>\n",
       "  </tbody>\n",
       "</table>\n",
       "<p>29736 rows × 8 columns</p>\n",
       "</div>"
      ],
      "text/plain": [
       "                           CellID SampleID        donor_id nGene   nUMI   sex  \\\n",
       "0      1_AAACGAACACGTGAGA-1_1_23d     Org1  Mito 210 c1 b1   536   3724  male   \n",
       "1      1_AAACGAAGTCGAAACG-1_1_23d     Org1  Mito 210 c1 b1  2310   9184  male   \n",
       "2      1_AAACGAAGTGGCAGAT-1_1_23d     Org1  Mito 210 c1 b1  2070   6359  male   \n",
       "3      1_AAACGAAGTGGTTCTA-1_1_23d     Org1  Mito 210 c1 b1  1292   3468  male   \n",
       "4      1_AAACGAAGTTGGCCGT-1_1_23d     Org1  Mito 210 c1 b1   832   1809  male   \n",
       "...                           ...      ...             ...   ...    ...   ...   \n",
       "29731  3_TTTGGTTTCGGAATGG-1_2_23d     Org6      PGP1 c1 b2   995   1825  male   \n",
       "29732  3_TTTGGTTTCGGTTAGT-1_2_23d     Org6      PGP1 c1 b2  3449  13964  male   \n",
       "29733  3_TTTGTTGAGACCATAA-1_2_23d     Org6      PGP1 c1 b2  1382   3670  male   \n",
       "29734  3_TTTGTTGAGAGAAGGT-1_2_23d     Org6      PGP1 c1 b2  1331   3713  male   \n",
       "29735  3_TTTGTTGTCCATGAGT-1_2_23d     Org6      PGP1 c1 b2  1958   5589  male   \n",
       "\n",
       "      library_preparation_protocol__ontology_label        biosample_type  \n",
       "0                                   10X sequencing  DerivedType_Organoid  \n",
       "1                                   10X sequencing  DerivedType_Organoid  \n",
       "2                                   10X sequencing  DerivedType_Organoid  \n",
       "3                                   10X sequencing  DerivedType_Organoid  \n",
       "4                                   10X sequencing  DerivedType_Organoid  \n",
       "...                                            ...                   ...  \n",
       "29731                               10X sequencing  DerivedType_Organoid  \n",
       "29732                               10X sequencing  DerivedType_Organoid  \n",
       "29733                               10X sequencing  DerivedType_Organoid  \n",
       "29734                               10X sequencing  DerivedType_Organoid  \n",
       "29735                               10X sequencing  DerivedType_Organoid  \n",
       "\n",
       "[29736 rows x 8 columns]"
      ]
     },
     "execution_count": 11,
     "metadata": {},
     "output_type": "execute_result"
    }
   ],
   "source": [
    "a = meta['CellID'].isin(barcodes['CellID'])\n",
    "b = meta[a]\n",
    "meta_d23 = pd.merge(barcodes, b, on='CellID', how='left')\n",
    "meta_d23\n",
    "\n",
    "#a = meta['SampleID'].isin(['Org1', 'Org2', 'Org3', 'Org4', 'Org5', 'Org6'])\n",
    "#meta_d23 = meta[a]\n",
    "#meta_d23"
   ]
  },
  {
   "cell_type": "code",
   "execution_count": 12,
   "id": "6505a9fa",
   "metadata": {
    "id": "6505a9fa"
   },
   "outputs": [
    {
     "name": "stderr",
     "output_type": "stream",
     "text": [
      "/Library/Frameworks/Python.framework/Versions/3.10/lib/python3.10/site-packages/anndata/_core/anndata.py:183: ImplicitModificationWarning: Transforming to str index.\n",
      "  warnings.warn(\"Transforming to str index.\", ImplicitModificationWarning)\n",
      "/Library/Frameworks/Python.framework/Versions/3.10/lib/python3.10/site-packages/anndata/_core/anndata.py:183: ImplicitModificationWarning: Transforming to str index.\n",
      "  warnings.warn(\"Transforming to str index.\", ImplicitModificationWarning)\n"
     ]
    },
    {
     "data": {
      "text/plain": [
       "AnnData object with n_obs × n_vars = 29736 × 33694\n",
       "    obs: 'CellID', 'SampleID', 'donor_id', 'nGene', 'nUMI', 'sex', 'library_preparation_protocol__ontology_label', 'biosample_type'\n",
       "    var: 'Genes'"
      ]
     },
     "execution_count": 12,
     "metadata": {},
     "output_type": "execute_result"
    }
   ],
   "source": [
    "adata = anndata.AnnData(X=counts,\n",
    "                        obs=meta_d23,\n",
    "                        var=genes)\n",
    "adata"
   ]
  },
  {
   "cell_type": "code",
   "execution_count": 13,
   "id": "918a29e1",
   "metadata": {},
   "outputs": [],
   "source": [
    "#adata.var_names_make_unique"
   ]
  },
  {
   "cell_type": "code",
   "execution_count": 14,
   "id": "f07c050e",
   "metadata": {
    "id": "f07c050e"
   },
   "outputs": [],
   "source": [
    "sc.pp.filter_genes(adata, min_cells=10)\n",
    "sc.pp.filter_cells(adata, min_genes=200)"
   ]
  },
  {
   "cell_type": "code",
   "execution_count": 15,
   "id": "9af4f4fc",
   "metadata": {},
   "outputs": [
    {
     "data": {
      "text/plain": [
       "AnnData object with n_obs × n_vars = 29736 × 20589\n",
       "    obs: 'CellID', 'SampleID', 'donor_id', 'nGene', 'nUMI', 'sex', 'library_preparation_protocol__ontology_label', 'biosample_type', 'n_genes'\n",
       "    var: 'Genes', 'n_cells'"
      ]
     },
     "execution_count": 15,
     "metadata": {},
     "output_type": "execute_result"
    }
   ],
   "source": [
    "adata"
   ]
  },
  {
   "cell_type": "code",
   "execution_count": 16,
   "id": "e6bed337",
   "metadata": {},
   "outputs": [],
   "source": [
    "adata.X = scipy.sparse.csr_matrix(adata.X.copy())\n",
    "adata.layers['counts'] = scipy.sparse.csr_matrix(adata.X.copy())\n",
    "#adata.layers['log2_counts'] = sc.pp.log1p(adata.layers['counts'].copy(), base=2)"
   ]
  },
  {
   "cell_type": "code",
   "execution_count": 17,
   "id": "d38cea09",
   "metadata": {},
   "outputs": [
    {
     "name": "stderr",
     "output_type": "stream",
     "text": [
      "/Library/Frameworks/Python.framework/Versions/3.10/lib/python3.10/abc.py:119: FutureWarning: SparseDataset is deprecated and will be removed in late 2024. It has been replaced by the public classes CSRDataset and CSCDataset.\n",
      "\n",
      "For instance checks, use `isinstance(X, (anndata.experimental.CSRDataset, anndata.experimental.CSCDataset))` instead.\n",
      "\n",
      "For creation, use `anndata.experimental.sparse_dataset(X)` instead.\n",
      "\n",
      "  return _abc_instancecheck(cls, instance)\n",
      "GPU available: False, used: False\n",
      "TPU available: False, using: 0 TPU cores\n",
      "IPU available: False, using: 0 IPUs\n",
      "HPU available: False, using: 0 HPUs\n"
     ]
    },
    {
     "name": "stdout",
     "output_type": "stream",
     "text": [
      "Epoch 1/269:   0%|                                      | 0/269 [00:00<?, ?it/s]"
     ]
    },
    {
     "name": "stderr",
     "output_type": "stream",
     "text": [
      "/Library/Frameworks/Python.framework/Versions/3.10/lib/python3.10/abc.py:119: FutureWarning: SparseDataset is deprecated and will be removed in late 2024. It has been replaced by the public classes CSRDataset and CSCDataset.\n",
      "\n",
      "For instance checks, use `isinstance(X, (anndata.experimental.CSRDataset, anndata.experimental.CSCDataset))` instead.\n",
      "\n",
      "For creation, use `anndata.experimental.sparse_dataset(X)` instead.\n",
      "\n",
      "  return _abc_instancecheck(cls, instance)\n"
     ]
    },
    {
     "name": "stdout",
     "output_type": "stream",
     "text": [
      "Epoch 269/269: 100%|█| 269/269 [3:48:19<00:00, 116.82s/it, v_num=1, train_loss_s"
     ]
    },
    {
     "name": "stderr",
     "output_type": "stream",
     "text": [
      "`Trainer.fit` stopped: `max_epochs=269` reached.\n"
     ]
    },
    {
     "name": "stdout",
     "output_type": "stream",
     "text": [
      "Epoch 269/269: 100%|█| 269/269 [3:48:19<00:00, 50.93s/it, v_num=1, train_loss_st\n",
      "CPU times: user 7h 31min 21s, sys: 1h 7min 6s, total: 8h 38min 27s\n",
      "Wall time: 3h 48min 20s\n"
     ]
    }
   ],
   "source": [
    "%%time\n",
    "random.seed(17)\n",
    "scvi.model.SCVI.setup_anndata(adata, layer='counts', batch_key='SampleID')\n",
    "scvi_model = scvi.model.SCVI(adata, n_layers=2, n_latent=30, n_hidden=128, gene_likelihood='nb')\n",
    "scvi_model.train()"
   ]
  },
  {
   "cell_type": "code",
   "execution_count": 18,
   "id": "4a916c81",
   "metadata": {},
   "outputs": [],
   "source": [
    "random.seed(17)\n",
    "adata.obsm['X_scvi'] = scvi_model.get_latent_representation()\n",
    "adata.layers['counts_scvi'] = scvi_model.get_normalized_expression(library_size=10000)\n",
    "#adata.layers['log2_counts_scvi'] = sc.pp.log1p(adata.layers['counts_scvi'].copy(), base=2)"
   ]
  },
  {
   "cell_type": "code",
   "execution_count": 19,
   "id": "2f8489e9",
   "metadata": {},
   "outputs": [
    {
     "name": "stderr",
     "output_type": "stream",
     "text": [
      "/Library/Frameworks/Python.framework/Versions/3.10/lib/python3.10/site-packages/scanpy/plotting/_tools/scatterplots.py:1251: FutureWarning: The default value of 'ignore' for the `na_action` parameter in pandas.Categorical.map is deprecated and will be changed to 'None' in a future version. Please set na_action to the desired value to avoid seeing this warning\n",
      "  color_vector = pd.Categorical(values.map(color_map))\n",
      "/Library/Frameworks/Python.framework/Versions/3.10/lib/python3.10/site-packages/scanpy/plotting/_tools/scatterplots.py:394: UserWarning: No data for colormapping provided via 'c'. Parameters 'cmap' will be ignored\n",
      "  cax = scatter(\n"
     ]
    },
    {
     "data": {
      "image/png": "[encoded data removed]",
      "text/plain": [
       "<Figure size 640x480 with 1 Axes>"
      ]
     },
     "metadata": {},
     "output_type": "display_data"
    },
    {
     "name": "stdout",
     "output_type": "stream",
     "text": [
      "CPU times: user 52 s, sys: 2.23 s, total: 54.2 s\n",
      "Wall time: 5min 44s\n"
     ]
    }
   ],
   "source": [
    "%%time\n",
    "sc.pp.neighbors(adata, use_rep='X_scvi', key_added='neighbors_scvi', n_neighbors=20)\n",
    "sc.tl.leiden(adata, neighbors_key='neighbors_scvi', key_added='leiden_scvi', resolution=3)\n",
    "sc.tl.umap(adata, neighbors_key='neighbors_scvi')\n",
    "sc.pl.umap(adata, color=['leiden_scvi'], legend_loc='on data')"
   ]
  },
  {
   "cell_type": "code",
   "execution_count": 20,
   "id": "26589746",
   "metadata": {},
   "outputs": [
    {
     "data": {
      "text/html": [
       "<div>\n",
       "<style scoped>\n",
       "    .dataframe tbody tr th:only-of-type {\n",
       "        vertical-align: middle;\n",
       "    }\n",
       "\n",
       "    .dataframe tbody tr th {\n",
       "        vertical-align: top;\n",
       "    }\n",
       "\n",
       "    .dataframe thead th {\n",
       "        text-align: right;\n",
       "    }\n",
       "</style>\n",
       "<table border=\"1\" class=\"dataframe\">\n",
       "  <thead>\n",
       "    <tr style=\"text-align: right;\">\n",
       "      <th></th>\n",
       "      <th>CellID</th>\n",
       "      <th>SampleID</th>\n",
       "      <th>donor_id</th>\n",
       "      <th>nGene</th>\n",
       "      <th>nUMI</th>\n",
       "      <th>sex</th>\n",
       "      <th>library_preparation_protocol__ontology_label</th>\n",
       "      <th>biosample_type</th>\n",
       "      <th>n_genes</th>\n",
       "      <th>_scvi_batch</th>\n",
       "      <th>_scvi_labels</th>\n",
       "      <th>leiden_scvi</th>\n",
       "    </tr>\n",
       "  </thead>\n",
       "  <tbody>\n",
       "    <tr>\n",
       "      <th>0</th>\n",
       "      <td>1_AAACGAACACGTGAGA-1_1_23d</td>\n",
       "      <td>Org1</td>\n",
       "      <td>Mito 210 c1 b1</td>\n",
       "      <td>536</td>\n",
       "      <td>3724</td>\n",
       "      <td>male</td>\n",
       "      <td>10X sequencing</td>\n",
       "      <td>DerivedType_Organoid</td>\n",
       "      <td>536</td>\n",
       "      <td>0</td>\n",
       "      <td>0</td>\n",
       "      <td>35</td>\n",
       "    </tr>\n",
       "    <tr>\n",
       "      <th>1</th>\n",
       "      <td>1_AAACGAAGTCGAAACG-1_1_23d</td>\n",
       "      <td>Org1</td>\n",
       "      <td>Mito 210 c1 b1</td>\n",
       "      <td>2310</td>\n",
       "      <td>9184</td>\n",
       "      <td>male</td>\n",
       "      <td>10X sequencing</td>\n",
       "      <td>DerivedType_Organoid</td>\n",
       "      <td>2310</td>\n",
       "      <td>0</td>\n",
       "      <td>0</td>\n",
       "      <td>14</td>\n",
       "    </tr>\n",
       "    <tr>\n",
       "      <th>2</th>\n",
       "      <td>1_AAACGAAGTGGCAGAT-1_1_23d</td>\n",
       "      <td>Org1</td>\n",
       "      <td>Mito 210 c1 b1</td>\n",
       "      <td>2070</td>\n",
       "      <td>6359</td>\n",
       "      <td>male</td>\n",
       "      <td>10X sequencing</td>\n",
       "      <td>DerivedType_Organoid</td>\n",
       "      <td>2068</td>\n",
       "      <td>0</td>\n",
       "      <td>0</td>\n",
       "      <td>27</td>\n",
       "    </tr>\n",
       "    <tr>\n",
       "      <th>3</th>\n",
       "      <td>1_AAACGAAGTGGTTCTA-1_1_23d</td>\n",
       "      <td>Org1</td>\n",
       "      <td>Mito 210 c1 b1</td>\n",
       "      <td>1292</td>\n",
       "      <td>3468</td>\n",
       "      <td>male</td>\n",
       "      <td>10X sequencing</td>\n",
       "      <td>DerivedType_Organoid</td>\n",
       "      <td>1291</td>\n",
       "      <td>0</td>\n",
       "      <td>0</td>\n",
       "      <td>23</td>\n",
       "    </tr>\n",
       "    <tr>\n",
       "      <th>4</th>\n",
       "      <td>1_AAACGAAGTTGGCCGT-1_1_23d</td>\n",
       "      <td>Org1</td>\n",
       "      <td>Mito 210 c1 b1</td>\n",
       "      <td>832</td>\n",
       "      <td>1809</td>\n",
       "      <td>male</td>\n",
       "      <td>10X sequencing</td>\n",
       "      <td>DerivedType_Organoid</td>\n",
       "      <td>831</td>\n",
       "      <td>0</td>\n",
       "      <td>0</td>\n",
       "      <td>27</td>\n",
       "    </tr>\n",
       "    <tr>\n",
       "      <th>...</th>\n",
       "      <td>...</td>\n",
       "      <td>...</td>\n",
       "      <td>...</td>\n",
       "      <td>...</td>\n",
       "      <td>...</td>\n",
       "      <td>...</td>\n",
       "      <td>...</td>\n",
       "      <td>...</td>\n",
       "      <td>...</td>\n",
       "      <td>...</td>\n",
       "      <td>...</td>\n",
       "      <td>...</td>\n",
       "    </tr>\n",
       "    <tr>\n",
       "      <th>29731</th>\n",
       "      <td>3_TTTGGTTTCGGAATGG-1_2_23d</td>\n",
       "      <td>Org6</td>\n",
       "      <td>PGP1 c1 b2</td>\n",
       "      <td>995</td>\n",
       "      <td>1825</td>\n",
       "      <td>male</td>\n",
       "      <td>10X sequencing</td>\n",
       "      <td>DerivedType_Organoid</td>\n",
       "      <td>994</td>\n",
       "      <td>5</td>\n",
       "      <td>0</td>\n",
       "      <td>15</td>\n",
       "    </tr>\n",
       "    <tr>\n",
       "      <th>29732</th>\n",
       "      <td>3_TTTGGTTTCGGTTAGT-1_2_23d</td>\n",
       "      <td>Org6</td>\n",
       "      <td>PGP1 c1 b2</td>\n",
       "      <td>3449</td>\n",
       "      <td>13964</td>\n",
       "      <td>male</td>\n",
       "      <td>10X sequencing</td>\n",
       "      <td>DerivedType_Organoid</td>\n",
       "      <td>3449</td>\n",
       "      <td>5</td>\n",
       "      <td>0</td>\n",
       "      <td>16</td>\n",
       "    </tr>\n",
       "    <tr>\n",
       "      <th>29733</th>\n",
       "      <td>3_TTTGTTGAGACCATAA-1_2_23d</td>\n",
       "      <td>Org6</td>\n",
       "      <td>PGP1 c1 b2</td>\n",
       "      <td>1382</td>\n",
       "      <td>3670</td>\n",
       "      <td>male</td>\n",
       "      <td>10X sequencing</td>\n",
       "      <td>DerivedType_Organoid</td>\n",
       "      <td>1382</td>\n",
       "      <td>5</td>\n",
       "      <td>0</td>\n",
       "      <td>8</td>\n",
       "    </tr>\n",
       "    <tr>\n",
       "      <th>29734</th>\n",
       "      <td>3_TTTGTTGAGAGAAGGT-1_2_23d</td>\n",
       "      <td>Org6</td>\n",
       "      <td>PGP1 c1 b2</td>\n",
       "      <td>1331</td>\n",
       "      <td>3713</td>\n",
       "      <td>male</td>\n",
       "      <td>10X sequencing</td>\n",
       "      <td>DerivedType_Organoid</td>\n",
       "      <td>1329</td>\n",
       "      <td>5</td>\n",
       "      <td>0</td>\n",
       "      <td>8</td>\n",
       "    </tr>\n",
       "    <tr>\n",
       "      <th>29735</th>\n",
       "      <td>3_TTTGTTGTCCATGAGT-1_2_23d</td>\n",
       "      <td>Org6</td>\n",
       "      <td>PGP1 c1 b2</td>\n",
       "      <td>1958</td>\n",
       "      <td>5589</td>\n",
       "      <td>male</td>\n",
       "      <td>10X sequencing</td>\n",
       "      <td>DerivedType_Organoid</td>\n",
       "      <td>1958</td>\n",
       "      <td>5</td>\n",
       "      <td>0</td>\n",
       "      <td>3</td>\n",
       "    </tr>\n",
       "  </tbody>\n",
       "</table>\n",
       "<p>29736 rows × 12 columns</p>\n",
       "</div>"
      ],
      "text/plain": [
       "                           CellID SampleID        donor_id nGene   nUMI   sex  \\\n",
       "0      1_AAACGAACACGTGAGA-1_1_23d     Org1  Mito 210 c1 b1   536   3724  male   \n",
       "1      1_AAACGAAGTCGAAACG-1_1_23d     Org1  Mito 210 c1 b1  2310   9184  male   \n",
       "2      1_AAACGAAGTGGCAGAT-1_1_23d     Org1  Mito 210 c1 b1  2070   6359  male   \n",
       "3      1_AAACGAAGTGGTTCTA-1_1_23d     Org1  Mito 210 c1 b1  1292   3468  male   \n",
       "4      1_AAACGAAGTTGGCCGT-1_1_23d     Org1  Mito 210 c1 b1   832   1809  male   \n",
       "...                           ...      ...             ...   ...    ...   ...   \n",
       "29731  3_TTTGGTTTCGGAATGG-1_2_23d     Org6      PGP1 c1 b2   995   1825  male   \n",
       "29732  3_TTTGGTTTCGGTTAGT-1_2_23d     Org6      PGP1 c1 b2  3449  13964  male   \n",
       "29733  3_TTTGTTGAGACCATAA-1_2_23d     Org6      PGP1 c1 b2  1382   3670  male   \n",
       "29734  3_TTTGTTGAGAGAAGGT-1_2_23d     Org6      PGP1 c1 b2  1331   3713  male   \n",
       "29735  3_TTTGTTGTCCATGAGT-1_2_23d     Org6      PGP1 c1 b2  1958   5589  male   \n",
       "\n",
       "      library_preparation_protocol__ontology_label        biosample_type  \\\n",
       "0                                   10X sequencing  DerivedType_Organoid   \n",
       "1                                   10X sequencing  DerivedType_Organoid   \n",
       "2                                   10X sequencing  DerivedType_Organoid   \n",
       "3                                   10X sequencing  DerivedType_Organoid   \n",
       "4                                   10X sequencing  DerivedType_Organoid   \n",
       "...                                            ...                   ...   \n",
       "29731                               10X sequencing  DerivedType_Organoid   \n",
       "29732                               10X sequencing  DerivedType_Organoid   \n",
       "29733                               10X sequencing  DerivedType_Organoid   \n",
       "29734                               10X sequencing  DerivedType_Organoid   \n",
       "29735                               10X sequencing  DerivedType_Organoid   \n",
       "\n",
       "       n_genes  _scvi_batch  _scvi_labels leiden_scvi  \n",
       "0          536            0             0          35  \n",
       "1         2310            0             0          14  \n",
       "2         2068            0             0          27  \n",
       "3         1291            0             0          23  \n",
       "4          831            0             0          27  \n",
       "...        ...          ...           ...         ...  \n",
       "29731      994            5             0          15  \n",
       "29732     3449            5             0          16  \n",
       "29733     1382            5             0           8  \n",
       "29734     1329            5             0           8  \n",
       "29735     1958            5             0           3  \n",
       "\n",
       "[29736 rows x 12 columns]"
      ]
     },
     "execution_count": 20,
     "metadata": {},
     "output_type": "execute_result"
    }
   ],
   "source": [
    "adata.obs"
   ]
  },
  {
   "cell_type": "code",
   "execution_count": 21,
   "id": "609a0145",
   "metadata": {},
   "outputs": [],
   "source": [
    "adata.obs['CellID'] = adata.obs['CellID'].astype(str)\n",
    "adata.obs['SampleID'] = adata.obs['SampleID'].astype(str)\n",
    "adata.obs['donor_id'] = adata.obs['donor_id'].astype(str)\n",
    "adata.obs['nGene'] = adata.obs['nGene'].astype(int)\n",
    "adata.obs['nUMI'] = adata.obs['nUMI'].astype(int)\n",
    "adata.obs['sex'] = adata.obs['sex'].astype(str)\n",
    "adata.obs['library_preparation_protocol__ontology_label'] = adata.obs['library_preparation_protocol__ontology_label'].astype(str)\n",
    "adata.obs['biosample_type'] = adata.obs['biosample_type'].astype(str)\n",
    "adata.obs['leiden_scvi'] = adata.obs['leiden_scvi'].astype(str)"
   ]
  },
  {
   "cell_type": "code",
   "execution_count": 22,
   "id": "a133a943",
   "metadata": {},
   "outputs": [
    {
     "name": "stdout",
     "output_type": "stream",
     "text": [
      "CPU times: user 230 ms, sys: 2.06 s, total: 2.29 s\n",
      "Wall time: 8.35 s\n"
     ]
    }
   ],
   "source": [
    "%%time\n",
    "adata.write(cwd+'/outs/231228_uzquiano_d23_rna_scvi.h5ad')\n",
    "scvi_model.save(cwd+'/outs/231228_uzquiano_d23_rna_scvi_model/')"
   ]
  },
  {
   "cell_type": "code",
   "execution_count": null,
   "id": "c61c3285",
   "metadata": {},
   "outputs": [],
   "source": []
  }
 ],
 "metadata": {
  "colab": {
   "provenance": []
  },
  "kernelspec": {
   "display_name": "Python 3 (ipykernel)",
   "language": "python",
   "name": "python3"
  },
  "language_info": {
   "codemirror_mode": {
    "name": "ipython",
    "version": 3
   },
   "file_extension": ".py",
   "mimetype": "text/x-python",
   "name": "python",
   "nbconvert_exporter": "python",
   "pygments_lexer": "ipython3",
   "version": "3.10.8"
  }
 },
 "nbformat": 4,
 "nbformat_minor": 5
}
